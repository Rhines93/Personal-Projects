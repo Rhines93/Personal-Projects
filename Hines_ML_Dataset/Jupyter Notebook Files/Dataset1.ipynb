{
 "cells": [
  {
   "cell_type": "code",
   "execution_count": 1,
   "metadata": {},
   "outputs": [],
   "source": [
    "import pandas as pd\n",
    "import numpy as np\n",
    "import sklearn as sk"
   ]
  },
  {
   "cell_type": "code",
   "execution_count": 2,
   "metadata": {},
   "outputs": [],
   "source": [
    "from sklearn.linear_model import LogisticRegression\n",
    "from sklearn import svm\n",
    "from sklearn.ensemble import RandomForestClassifier\n",
    "from sklearn.neural_network import MLPClassifier\n",
    "from sklearn.model_selection import train_test_split"
   ]
  },
  {
   "cell_type": "code",
   "execution_count": 3,
   "metadata": {},
   "outputs": [],
   "source": [
    "TD1 = pd.read_csv('Datasets/TrainData1.txt', sep=\"\\t\", header=None)\n",
    "TL1 = pd.read_csv('Datasets/TrainLabel1.txt', sep=\"\\t\", header=None)\n",
    "TestD1 = pd.read_csv('Datasets/TestData1.txt', sep=\"\\t\", header=None)"
   ]
  },
  {
   "cell_type": "code",
   "execution_count": 4,
   "metadata": {},
   "outputs": [
    {
     "name": "stdout",
     "output_type": "stream",
     "text": [
      "(150, 3312)\n",
      "(150, 1)\n",
      "(53, 3312)\n"
     ]
    }
   ],
   "source": [
    "TD1.fillna(TD1.median(), inplace=True)\n",
    "TestD1.fillna(TestD1.median(), inplace=True)\n",
    "TD1cat = pd.concat([TD1, TL1], axis=1)\n",
    "print(TD1.shape)\n",
    "print(TL1.shape)\n",
    "print(TestD1.shape)"
   ]
  },
  {
   "cell_type": "code",
   "execution_count": 5,
   "metadata": {},
   "outputs": [
    {
     "data": {
      "text/html": [
       "<div>\n",
       "<style scoped>\n",
       "    .dataframe tbody tr th:only-of-type {\n",
       "        vertical-align: middle;\n",
       "    }\n",
       "\n",
       "    .dataframe tbody tr th {\n",
       "        vertical-align: top;\n",
       "    }\n",
       "\n",
       "    .dataframe thead th {\n",
       "        text-align: right;\n",
       "    }\n",
       "</style>\n",
       "<table border=\"1\" class=\"dataframe\">\n",
       "  <thead>\n",
       "    <tr style=\"text-align: right;\">\n",
       "      <th></th>\n",
       "      <th>0</th>\n",
       "      <th>1</th>\n",
       "      <th>2</th>\n",
       "      <th>3</th>\n",
       "      <th>4</th>\n",
       "      <th>5</th>\n",
       "      <th>6</th>\n",
       "      <th>7</th>\n",
       "      <th>8</th>\n",
       "      <th>9</th>\n",
       "      <th>...</th>\n",
       "      <th>3302</th>\n",
       "      <th>3303</th>\n",
       "      <th>3304</th>\n",
       "      <th>3305</th>\n",
       "      <th>3306</th>\n",
       "      <th>3307</th>\n",
       "      <th>3308</th>\n",
       "      <th>3309</th>\n",
       "      <th>3310</th>\n",
       "      <th>3311</th>\n",
       "    </tr>\n",
       "  </thead>\n",
       "  <tbody>\n",
       "    <tr>\n",
       "      <td>0</td>\n",
       "      <td>3.824254</td>\n",
       "      <td>1.923762</td>\n",
       "      <td>1.918450</td>\n",
       "      <td>2.352067</td>\n",
       "      <td>3.117298</td>\n",
       "      <td>3.051735</td>\n",
       "      <td>3.307977</td>\n",
       "      <td>3.430222</td>\n",
       "      <td>3.586667</td>\n",
       "      <td>3.605218</td>\n",
       "      <td>...</td>\n",
       "      <td>1.836830</td>\n",
       "      <td>1.855640</td>\n",
       "      <td>1.142389</td>\n",
       "      <td>2.054345</td>\n",
       "      <td>2.808224</td>\n",
       "      <td>1.782186</td>\n",
       "      <td>2.665703</td>\n",
       "      <td>2.468214</td>\n",
       "      <td>2.478581</td>\n",
       "      <td>2.308842</td>\n",
       "    </tr>\n",
       "    <tr>\n",
       "      <td>1</td>\n",
       "      <td>3.904190</td>\n",
       "      <td>2.309524</td>\n",
       "      <td>2.152930</td>\n",
       "      <td>2.439439</td>\n",
       "      <td>3.532368</td>\n",
       "      <td>3.524866</td>\n",
       "      <td>3.677791</td>\n",
       "      <td>3.636671</td>\n",
       "      <td>3.696868</td>\n",
       "      <td>3.716764</td>\n",
       "      <td>...</td>\n",
       "      <td>1.951532</td>\n",
       "      <td>1.442323</td>\n",
       "      <td>1.000000</td>\n",
       "      <td>2.127914</td>\n",
       "      <td>2.979658</td>\n",
       "      <td>1.961089</td>\n",
       "      <td>2.519027</td>\n",
       "      <td>2.054383</td>\n",
       "      <td>2.689903</td>\n",
       "      <td>2.090928</td>\n",
       "    </tr>\n",
       "    <tr>\n",
       "      <td>2</td>\n",
       "      <td>3.750908</td>\n",
       "      <td>1.161068</td>\n",
       "      <td>1.017033</td>\n",
       "      <td>2.347993</td>\n",
       "      <td>3.381889</td>\n",
       "      <td>3.393096</td>\n",
       "      <td>3.509134</td>\n",
       "      <td>3.512466</td>\n",
       "      <td>3.622203</td>\n",
       "      <td>3.603050</td>\n",
       "      <td>...</td>\n",
       "      <td>1.000000</td>\n",
       "      <td>1.584105</td>\n",
       "      <td>1.000000</td>\n",
       "      <td>1.945321</td>\n",
       "      <td>3.257004</td>\n",
       "      <td>1.965061</td>\n",
       "      <td>2.536066</td>\n",
       "      <td>1.449324</td>\n",
       "      <td>2.605230</td>\n",
       "      <td>1.368659</td>\n",
       "    </tr>\n",
       "    <tr>\n",
       "      <td>3</td>\n",
       "      <td>3.809383</td>\n",
       "      <td>1.912355</td>\n",
       "      <td>1.856940</td>\n",
       "      <td>2.498944</td>\n",
       "      <td>3.289406</td>\n",
       "      <td>3.371232</td>\n",
       "      <td>3.541995</td>\n",
       "      <td>3.498470</td>\n",
       "      <td>3.473179</td>\n",
       "      <td>3.628930</td>\n",
       "      <td>...</td>\n",
       "      <td>1.869965</td>\n",
       "      <td>1.481658</td>\n",
       "      <td>1.000000</td>\n",
       "      <td>2.155032</td>\n",
       "      <td>3.270371</td>\n",
       "      <td>1.928473</td>\n",
       "      <td>2.618074</td>\n",
       "      <td>2.154013</td>\n",
       "      <td>2.530046</td>\n",
       "      <td>2.185514</td>\n",
       "    </tr>\n",
       "    <tr>\n",
       "      <td>4</td>\n",
       "      <td>3.893561</td>\n",
       "      <td>2.094192</td>\n",
       "      <td>1.881271</td>\n",
       "      <td>2.785707</td>\n",
       "      <td>3.344339</td>\n",
       "      <td>3.274417</td>\n",
       "      <td>3.485872</td>\n",
       "      <td>3.516527</td>\n",
       "      <td>3.642358</td>\n",
       "      <td>3.688235</td>\n",
       "      <td>...</td>\n",
       "      <td>1.480725</td>\n",
       "      <td>1.510545</td>\n",
       "      <td>1.000000</td>\n",
       "      <td>2.094192</td>\n",
       "      <td>3.246666</td>\n",
       "      <td>1.824516</td>\n",
       "      <td>2.562317</td>\n",
       "      <td>1.942256</td>\n",
       "      <td>2.598517</td>\n",
       "      <td>1.764624</td>\n",
       "    </tr>\n",
       "  </tbody>\n",
       "</table>\n",
       "<p>5 rows × 3312 columns</p>\n",
       "</div>"
      ],
      "text/plain": [
       "       0         1         2         3         4         5         6     \\\n",
       "0  3.824254  1.923762  1.918450  2.352067  3.117298  3.051735  3.307977   \n",
       "1  3.904190  2.309524  2.152930  2.439439  3.532368  3.524866  3.677791   \n",
       "2  3.750908  1.161068  1.017033  2.347993  3.381889  3.393096  3.509134   \n",
       "3  3.809383  1.912355  1.856940  2.498944  3.289406  3.371232  3.541995   \n",
       "4  3.893561  2.094192  1.881271  2.785707  3.344339  3.274417  3.485872   \n",
       "\n",
       "       7         8         9     ...      3302      3303      3304      3305  \\\n",
       "0  3.430222  3.586667  3.605218  ...  1.836830  1.855640  1.142389  2.054345   \n",
       "1  3.636671  3.696868  3.716764  ...  1.951532  1.442323  1.000000  2.127914   \n",
       "2  3.512466  3.622203  3.603050  ...  1.000000  1.584105  1.000000  1.945321   \n",
       "3  3.498470  3.473179  3.628930  ...  1.869965  1.481658  1.000000  2.155032   \n",
       "4  3.516527  3.642358  3.688235  ...  1.480725  1.510545  1.000000  2.094192   \n",
       "\n",
       "       3306      3307      3308      3309      3310      3311  \n",
       "0  2.808224  1.782186  2.665703  2.468214  2.478581  2.308842  \n",
       "1  2.979658  1.961089  2.519027  2.054383  2.689903  2.090928  \n",
       "2  3.257004  1.965061  2.536066  1.449324  2.605230  1.368659  \n",
       "3  3.270371  1.928473  2.618074  2.154013  2.530046  2.185514  \n",
       "4  3.246666  1.824516  2.562317  1.942256  2.598517  1.764624  \n",
       "\n",
       "[5 rows x 3312 columns]"
      ]
     },
     "execution_count": 5,
     "metadata": {},
     "output_type": "execute_result"
    }
   ],
   "source": [
    "TD1.head()"
   ]
  },
  {
   "cell_type": "code",
   "execution_count": 6,
   "metadata": {},
   "outputs": [],
   "source": [
    "x = TD1cat.iloc[:,0:]\n",
    "y = TD1cat.iloc[:,3312]\n",
    "\n",
    "x_real = TD1.iloc[:,0:]\n",
    "y_real = TL1.iloc[:,0]"
   ]
  },
  {
   "cell_type": "code",
   "execution_count": 7,
   "metadata": {},
   "outputs": [],
   "source": [
    "X_train, X_test, y_train, y_test = train_test_split(x, y, test_size = 0.2, random_state = 0)"
   ]
  },
  {
   "cell_type": "code",
   "execution_count": 8,
   "metadata": {},
   "outputs": [
    {
     "data": {
      "text/plain": [
       "0.9"
      ]
     },
     "execution_count": 8,
     "metadata": {},
     "output_type": "execute_result"
    }
   ],
   "source": [
    "LR = LogisticRegression(random_state=0, solver='newton-cg', max_iter=300, multi_class='multinomial').fit(X_train, y_train)\n",
    "LR.predict(X_test)\n",
    "round(LR.score(X_test,y_test), 4)"
   ]
  },
  {
   "cell_type": "code",
   "execution_count": 9,
   "metadata": {},
   "outputs": [
    {
     "name": "stdout",
     "output_type": "stream",
     "text": [
      "[2 1 1 1 1 2 1 1 3 1 3 1 1 3 5 1 1 1 1 1 1 4 3 3 4 1 5 4 1 3 1 1 4 1 3 1 1\n",
      " 4 3 5 3 1 4 1 1 1 1 1 1 3 1 1 1]\n"
     ]
    }
   ],
   "source": [
    "LR = LogisticRegression(random_state=0, solver='lbfgs', max_iter=500, multi_class='multinomial').fit(x_real, y_real)\n",
    "result = LR.predict(TestD1)\n",
    "print(result)"
   ]
  },
  {
   "cell_type": "code",
   "execution_count": 10,
   "metadata": {},
   "outputs": [
    {
     "data": {
      "text/plain": [
       "0.9333"
      ]
     },
     "execution_count": 10,
     "metadata": {},
     "output_type": "execute_result"
    }
   ],
   "source": [
    "SVM = svm.SVC(kernel='linear', gamma='scale', decision_function_shape=\"ovo\").fit(X_train, y_train)\n",
    "SVM.predict(X_test)\n",
    "round(SVM.score(X_test, y_test), 4)"
   ]
  },
  {
   "cell_type": "code",
   "execution_count": 11,
   "metadata": {},
   "outputs": [
    {
     "name": "stdout",
     "output_type": "stream",
     "text": [
      "1, 1, 1, 1, 1, 1, 1, 1, 1, 1, 1, 1, 1, 1, 1, 1, 1, 1, 1, 1, 1, 4, 1, 1, 1, 1, 1, 4, 1, 1, 1, 1, 4, 1, 1, 1, 1, 4, 1, 1, 1, 1, 4, 1, 1, 1, 1, 1, 1, 1, 1, 1, 1\n"
     ]
    },
    {
     "name": "stderr",
     "output_type": "stream",
     "text": [
      "C:\\Users\\Rhine\\Anaconda3\\lib\\site-packages\\sklearn\\svm\\base.py:193: FutureWarning: The default value of gamma will change from 'auto' to 'scale' in version 0.22 to account better for unscaled features. Set gamma explicitly to 'auto' or 'scale' to avoid this warning.\n",
      "  \"avoid this warning.\", FutureWarning)\n"
     ]
    }
   ],
   "source": [
    "SVM = svm.SVC(decision_function_shape=\"ovo\").fit(x_real, y_real)\n",
    "result = SVM.predict(TestD1)\n",
    "print(*result, sep = \", \")"
   ]
  },
  {
   "cell_type": "code",
   "execution_count": 12,
   "metadata": {},
   "outputs": [
    {
     "data": {
      "text/plain": [
       "0.8333"
      ]
     },
     "execution_count": 12,
     "metadata": {},
     "output_type": "execute_result"
    }
   ],
   "source": [
    "RF = RandomForestClassifier(n_estimators=1000, max_depth=15, random_state=0).fit(X_train, y_train)\n",
    "RF.predict(X_test)\n",
    "round(RF.score(X_test, y_test), 4)"
   ]
  },
  {
   "cell_type": "code",
   "execution_count": 13,
   "metadata": {},
   "outputs": [
    {
     "name": "stdout",
     "output_type": "stream",
     "text": [
      "[2 1 1 1 1 2 1 1 3 2 3 1 1 1 1 1 1 1 1 1 1 4 1 3 4 1 1 4 1 1 1 1 4 1 1 1 1\n",
      " 4 3 1 1 1 4 1 1 1 1 1 1 1 1 1 1]\n"
     ]
    }
   ],
   "source": [
    "RF = RandomForestClassifier(n_estimators=1000, max_depth=10, random_state=0).fit(x_real, y_real)\n",
    "result = RF.predict(TestD1)\n",
    "print(result)"
   ]
  },
  {
   "cell_type": "code",
   "execution_count": 14,
   "metadata": {},
   "outputs": [
    {
     "data": {
      "text/plain": [
       "0.9"
      ]
     },
     "execution_count": 14,
     "metadata": {},
     "output_type": "execute_result"
    }
   ],
   "source": [
    "NN = MLPClassifier(solver='sgd', alpha=1e-5, hidden_layer_sizes=(150, 15), max_iter=500, random_state=1).fit(X_train, y_train)\n",
    "NN.predict(X_test)\n",
    "round(NN.score(X_test, y_test), 4)"
   ]
  },
  {
   "cell_type": "code",
   "execution_count": 15,
   "metadata": {},
   "outputs": [
    {
     "name": "stdout",
     "output_type": "stream",
     "text": [
      "[2 1 1 1 1 2 1 1 3 1 3 1 1 3 4 1 1 1 1 1 1 4 3 3 4 1 5 4 1 3 1 1 4 1 1 1 1\n",
      " 4 3 5 1 1 4 1 1 1 1 1 1 3 1 1 1]\n"
     ]
    },
    {
     "name": "stderr",
     "output_type": "stream",
     "text": [
      "C:\\Users\\Rhine\\Anaconda3\\lib\\site-packages\\sklearn\\neural_network\\multilayer_perceptron.py:566: ConvergenceWarning: Stochastic Optimizer: Maximum iterations (500) reached and the optimization hasn't converged yet.\n",
      "  % self.max_iter, ConvergenceWarning)\n"
     ]
    }
   ],
   "source": [
    "NN = MLPClassifier(solver='sgd', alpha=1e-5, hidden_layer_sizes=(150, 15), max_iter=500, random_state=1).fit(x_real, y_real)\n",
    "result = NN.predict(TestD1)\n",
    "print(result)"
   ]
  },
  {
   "cell_type": "code",
   "execution_count": null,
   "metadata": {},
   "outputs": [],
   "source": []
  }
 ],
 "metadata": {
  "kernelspec": {
   "display_name": "Python 3",
   "language": "python",
   "name": "python3"
  },
  "language_info": {
   "codemirror_mode": {
    "name": "ipython",
    "version": 3
   },
   "file_extension": ".py",
   "mimetype": "text/x-python",
   "name": "python",
   "nbconvert_exporter": "python",
   "pygments_lexer": "ipython3",
   "version": "3.7.4"
  }
 },
 "nbformat": 4,
 "nbformat_minor": 2
}
