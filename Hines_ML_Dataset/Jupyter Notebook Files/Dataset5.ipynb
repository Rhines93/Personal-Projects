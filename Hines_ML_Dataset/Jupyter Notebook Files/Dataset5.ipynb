{
 "cells": [
  {
   "cell_type": "code",
   "execution_count": 1,
   "metadata": {},
   "outputs": [],
   "source": [
    "import pandas as pd\n",
    "import numpy as np\n",
    "import sklearn as sk"
   ]
  },
  {
   "cell_type": "code",
   "execution_count": 2,
   "metadata": {},
   "outputs": [],
   "source": [
    "from sklearn.linear_model import LogisticRegression\n",
    "from sklearn import svm\n",
    "from sklearn.ensemble import RandomForestClassifier\n",
    "from sklearn.neural_network import MLPClassifier\n",
    "from sklearn.model_selection import train_test_split"
   ]
  },
  {
   "cell_type": "code",
   "execution_count": 3,
   "metadata": {},
   "outputs": [],
   "source": [
    "TD5 = pd.read_csv('Datasets/TrainData5.txt', sep=\"\\t\", header=None)\n",
    "TL5 = pd.read_csv('Datasets/TrainLabel5.txt', sep=\"\\t\", header=None)\n",
    "TestD5 = pd.read_csv('Datasets/TestData5.txt', sep=\"\\t\", header=None)"
   ]
  },
  {
   "cell_type": "code",
   "execution_count": 4,
   "metadata": {},
   "outputs": [
    {
     "name": "stdout",
     "output_type": "stream",
     "text": [
      "(1119, 11)\n",
      "(1119, 1)\n",
      "(480, 11)\n"
     ]
    }
   ],
   "source": [
    "TD5.fillna(TD5.median(), inplace=True)\n",
    "TestD5.fillna(TestD5.median(), inplace=True)\n",
    "TD5cat = pd.concat([TD5, TL5], axis=1)\n",
    "print(TD5.shape)\n",
    "print(TL5.shape)\n",
    "print(TestD5.shape)"
   ]
  },
  {
   "cell_type": "code",
   "execution_count": 5,
   "metadata": {},
   "outputs": [],
   "source": [
    "x5 = TD5cat.iloc[:,0:]\n",
    "y5 = TD5cat.iloc[:,11]\n",
    "\n",
    "x_real5 = TD5.iloc[:,0:]\n",
    "y_real5 = TL5.iloc[:,0]"
   ]
  },
  {
   "cell_type": "code",
   "execution_count": 6,
   "metadata": {},
   "outputs": [],
   "source": [
    "X_train5, X_test5, y_train5, y_test5 = train_test_split(x5, y5, test_size = 0.2, random_state = 0)"
   ]
  },
  {
   "cell_type": "code",
   "execution_count": 7,
   "metadata": {},
   "outputs": [
    {
     "name": "stderr",
     "output_type": "stream",
     "text": [
      "C:\\Users\\Rhine\\Anaconda3\\lib\\site-packages\\sklearn\\linear_model\\logistic.py:947: ConvergenceWarning: lbfgs failed to converge. Increase the number of iterations.\n",
      "  \"of iterations.\", ConvergenceWarning)\n"
     ]
    },
    {
     "data": {
      "text/plain": [
       "0.9598"
      ]
     },
     "execution_count": 7,
     "metadata": {},
     "output_type": "execute_result"
    }
   ],
   "source": [
    "LR = LogisticRegression(random_state=0, solver='lbfgs', max_iter=1000, multi_class='multinomial').fit(X_train5, y_train5)\n",
    "LR.predict(X_test5)\n",
    "round(LR.score(X_test5,y_test5), 4)"
   ]
  },
  {
   "cell_type": "code",
   "execution_count": 8,
   "metadata": {},
   "outputs": [
    {
     "name": "stdout",
     "output_type": "stream",
     "text": [
      "[5 5 6 6 5 5 5 5 6 6 6 5 6 5 5 5 5 5 6 6 6 5 5 6 5 5 5 6 5 5 5 5 5 5 5 6 5\n",
      " 6 5 5 6 5 5 5 5 5 6 6 6 7 5 6 5 5 5 5 5 5 5 5 5 5 5 6 5 5 5 7 5 5 6 6 5 5\n",
      " 5 5 5 6 6 5 5 5 6 6 7 5 6 5 5 6 5 5 5 6 5 7 6 6 6 5 6 6 7 5 5 6 6 7 7 7 6\n",
      " 5 5 5 5 5 5 7 5 5 6 6 5 6 6 5 7 6 6 6 6 5 7 5 5 5 6 6 6 5 5 5 6 6 7 6 6 6\n",
      " 5 6 5 5 6 6 5 6 6 7 6 5 5 6 5 6 5 6 6 6 5 6 6 6 6 6 5 5 6 5 6 6 6 5 5 5 5\n",
      " 7 6 6 5 5 6 5 5 5 6 5 5 5 5 6 5 6 6 5 7 5 5 5 5 5 5 6 5 5 6 5 5 6 5 6 5 5\n",
      " 6 6 5 5 6 6 5 5 5 5 5 5 5 5 5 5 5 5 5 5 5 5 5 6 5 5 5 6 6 6 6 6 7 5 6 6 6\n",
      " 6 6 6 5 5 6 5 6 6 6 6 6 6 6 5 6 5 5 5 7 7 6 6 6 6 5 7 7 6 6 6 5 6 6 6 6 5\n",
      " 6 6 5 5 5 5 6 6 7 6 6 7 7 6 6 7 6 6 5 6 6 6 7 6 6 6 6 6 6 6 6 5 5 5 6 6 6\n",
      " 6 6 6 6 6 6 7 6 6 6 7 5 6 5 5 6 6 6 6 6 5 6 6 6 5 5 5 5 5 6 6 6 6 6 6 5 6\n",
      " 6 5 5 5 6 6 5 6 6 5 5 6 6 5 6 6 5 5 5 6 5 6 6 5 5 5 5 5 6 5 5 6 6 6 5 6 5\n",
      " 5 6 5 5 5 5 6 6 5 5 5 5 6 5 5 6 7 6 5 6 5 5 6 6 5 5 5 6 6 6 6 5 6 5 7 5 5\n",
      " 6 5 5 7 6 6 6 6 6 5 5 5 6 6 6 6 6 6 6 6 6 6 5 6 6 5 5 7 6 5 6 6 6 6 6 6]\n"
     ]
    },
    {
     "name": "stderr",
     "output_type": "stream",
     "text": [
      "C:\\Users\\Rhine\\Anaconda3\\lib\\site-packages\\sklearn\\linear_model\\logistic.py:947: ConvergenceWarning: lbfgs failed to converge. Increase the number of iterations.\n",
      "  \"of iterations.\", ConvergenceWarning)\n"
     ]
    }
   ],
   "source": [
    "LR = LogisticRegression(random_state=0, solver='lbfgs', max_iter=1000, multi_class='multinomial').fit(x_real5, y_real5)\n",
    "result = LR.predict(TestD5)\n",
    "print(result)"
   ]
  },
  {
   "cell_type": "code",
   "execution_count": 9,
   "metadata": {},
   "outputs": [
    {
     "data": {
      "text/plain": [
       "1.0"
      ]
     },
     "execution_count": 9,
     "metadata": {},
     "output_type": "execute_result"
    }
   ],
   "source": [
    "SVM = svm.SVC(kernel='linear', decision_function_shape=\"ovo\").fit(X_train5, y_train5)\n",
    "SVM.predict(X_test5)\n",
    "round(SVM.score(X_test5, y_test5), 4)"
   ]
  },
  {
   "cell_type": "code",
   "execution_count": 15,
   "metadata": {},
   "outputs": [
    {
     "name": "stdout",
     "output_type": "stream",
     "text": [
      "5, 6, 6, 6, 5, 5, 5, 5, 6, 6, 6, 5, 6, 5, 5, 5, 5, 5, 6, 6, 6, 5, 5, 6, 5, 5, 5, 6, 5, 5, 5, 5, 5, 5, 5, 6, 5, 6, 5, 5, 6, 5, 5, 5, 5, 5, 6, 6, 6, 6, 5, 5, 5, 5, 5, 5, 5, 5, 5, 5, 5, 5, 5, 6, 5, 5, 5, 6, 5, 5, 6, 6, 5, 5, 5, 5, 5, 6, 6, 5, 5, 5, 6, 6, 6, 5, 6, 5, 5, 6, 5, 5, 5, 6, 5, 6, 6, 6, 6, 5, 6, 6, 6, 5, 5, 6, 6, 6, 6, 6, 6, 5, 5, 5, 5, 5, 5, 6, 5, 6, 6, 6, 5, 6, 6, 5, 6, 6, 6, 6, 6, 5, 6, 5, 5, 5, 6, 6, 6, 5, 5, 5, 6, 6, 6, 6, 6, 6, 6, 6, 5, 5, 6, 6, 5, 6, 6, 6, 6, 5, 5, 6, 5, 6, 5, 6, 6, 6, 5, 6, 6, 6, 6, 6, 5, 5, 6, 5, 6, 6, 6, 5, 5, 5, 5, 6, 6, 6, 5, 5, 6, 6, 5, 5, 6, 5, 5, 5, 5, 6, 5, 6, 6, 5, 6, 5, 5, 5, 5, 5, 5, 6, 5, 5, 6, 5, 5, 6, 5, 6, 5, 5, 6, 6, 5, 5, 6, 6, 5, 5, 5, 5, 5, 5, 5, 5, 5, 5, 5, 5, 5, 5, 5, 5, 5, 6, 5, 5, 5, 6, 6, 6, 6, 6, 6, 5, 6, 6, 6, 6, 6, 6, 5, 5, 6, 5, 6, 6, 6, 6, 6, 6, 6, 6, 6, 5, 5, 5, 6, 6, 6, 6, 6, 6, 5, 6, 6, 6, 6, 6, 5, 6, 6, 6, 6, 5, 6, 6, 5, 5, 5, 5, 6, 6, 6, 6, 6, 6, 6, 6, 6, 6, 6, 6, 5, 5, 6, 6, 6, 6, 5, 6, 6, 6, 6, 6, 6, 5, 5, 5, 6, 6, 6, 6, 6, 6, 6, 6, 6, 6, 6, 6, 6, 6, 5, 6, 5, 5, 6, 6, 6, 6, 6, 5, 6, 6, 6, 5, 5, 5, 5, 5, 6, 6, 6, 6, 6, 6, 5, 6, 6, 5, 5, 5, 6, 6, 5, 6, 6, 5, 5, 6, 6, 5, 6, 6, 5, 6, 5, 6, 5, 6, 6, 5, 5, 5, 5, 5, 6, 5, 5, 6, 6, 6, 5, 6, 5, 5, 6, 5, 5, 5, 5, 6, 6, 5, 5, 6, 5, 6, 5, 5, 6, 6, 6, 5, 6, 5, 5, 6, 6, 6, 5, 5, 6, 5, 6, 5, 5, 6, 5, 6, 5, 5, 6, 6, 5, 6, 6, 6, 6, 6, 6, 5, 5, 5, 6, 6, 5, 6, 6, 6, 6, 6, 6, 6, 5, 6, 6, 5, 5, 6, 6, 5, 6, 6, 6, 6, 6, 5\n"
     ]
    }
   ],
   "source": [
    "SVM = svm.SVC(kernel='linear', decision_function_shape=\"ovo\").fit(x_real5, y_real5)\n",
    "result = SVM.predict(TestD5)\n",
    "print(*result, sep = \", \")"
   ]
  },
  {
   "cell_type": "code",
   "execution_count": 11,
   "metadata": {},
   "outputs": [
    {
     "data": {
      "text/plain": [
       "0.9688"
      ]
     },
     "execution_count": 11,
     "metadata": {},
     "output_type": "execute_result"
    }
   ],
   "source": [
    "RF = RandomForestClassifier(n_estimators=1000, max_depth=10, random_state=0).fit(X_train5, y_train5)\n",
    "RF.predict(X_test5)\n",
    "round(RF.score(X_test5, y_test5), 4)"
   ]
  },
  {
   "cell_type": "code",
   "execution_count": 12,
   "metadata": {},
   "outputs": [
    {
     "name": "stdout",
     "output_type": "stream",
     "text": [
      "[5 5 5 6 5 5 5 6 6 5 5 5 6 5 5 5 6 5 5 6 6 5 6 5 5 5 5 6 5 5 5 5 5 5 5 6 5\n",
      " 6 5 5 5 5 5 5 5 5 6 5 6 5 5 6 5 5 6 5 5 5 5 5 5 5 5 6 5 5 5 6 5 5 6 6 5 6\n",
      " 6 5 5 7 6 5 5 5 6 6 7 5 6 5 5 6 5 5 5 6 5 6 6 6 6 6 7 6 7 6 5 6 6 7 7 7 6\n",
      " 5 5 5 5 5 6 6 5 6 6 6 5 6 7 5 6 6 6 7 6 5 6 5 6 6 6 6 7 6 6 6 6 6 7 6 6 6\n",
      " 6 7 5 6 6 6 5 6 6 6 6 6 6 6 5 6 6 5 5 5 5 6 6 6 7 6 5 5 6 5 6 6 6 5 5 5 6\n",
      " 7 6 6 5 5 6 5 5 5 6 5 5 5 5 6 5 6 6 5 6 5 5 5 5 5 5 6 6 5 5 5 5 6 6 6 5 5\n",
      " 6 6 5 5 6 5 5 5 5 6 5 5 5 5 5 5 5 5 6 5 5 6 5 6 5 5 5 5 6 6 6 6 6 5 5 6 6\n",
      " 6 5 7 5 5 6 5 6 6 6 6 6 6 6 6 6 5 5 5 7 7 6 6 6 6 6 7 7 6 7 6 6 6 6 6 6 6\n",
      " 6 6 5 5 5 6 5 6 7 7 7 7 6 6 6 7 6 6 5 6 6 6 7 6 6 6 7 7 6 5 6 7 5 5 7 6 5\n",
      " 6 6 6 6 6 6 6 6 6 6 6 5 6 5 5 6 6 6 6 6 5 6 6 6 5 5 5 5 5 7 6 6 6 6 6 5 6\n",
      " 6 5 5 5 6 6 5 5 6 5 5 6 6 5 6 7 5 5 5 6 5 6 7 5 5 5 5 6 6 6 5 6 6 6 5 6 5\n",
      " 5 6 5 5 5 5 6 6 5 5 6 5 6 6 5 6 7 6 5 5 5 5 6 6 6 5 6 6 5 6 5 5 6 5 7 5 6\n",
      " 6 5 5 6 5 6 6 6 6 5 6 5 6 5 6 6 6 6 6 6 6 6 5 6 6 5 5 7 6 5 6 6 6 6 6 6]\n"
     ]
    }
   ],
   "source": [
    "RF = RandomForestClassifier(n_estimators=1000, max_depth=10, random_state=0).fit(x_real5, y_real5)\n",
    "result = RF.predict(TestD5)\n",
    "print(result)"
   ]
  },
  {
   "cell_type": "code",
   "execution_count": 13,
   "metadata": {},
   "outputs": [
    {
     "data": {
      "text/plain": [
       "1.0"
      ]
     },
     "execution_count": 13,
     "metadata": {},
     "output_type": "execute_result"
    }
   ],
   "source": [
    "NN = MLPClassifier(solver='adam', alpha=1e-5, hidden_layer_sizes=(150, 15), max_iter=500, random_state=1).fit(X_train5, y_train5)\n",
    "NN.predict(X_test5)\n",
    "round(NN.score(X_test5, y_test5), 4)"
   ]
  },
  {
   "cell_type": "code",
   "execution_count": 16,
   "metadata": {},
   "outputs": [
    {
     "name": "stdout",
     "output_type": "stream",
     "text": [
      "5, 5, 6, 5, 5, 5, 6, 6, 6, 6, 6, 5, 6, 5, 5, 6, 5, 5, 5, 6, 6, 5, 5, 6, 5, 5, 5, 5, 5, 6, 5, 5, 5, 5, 6, 6, 5, 6, 5, 5, 6, 5, 5, 5, 5, 5, 6, 6, 6, 6, 5, 6, 5, 5, 5, 5, 5, 5, 5, 5, 5, 5, 6, 6, 5, 6, 5, 6, 5, 5, 6, 6, 5, 5, 5, 5, 5, 6, 5, 5, 5, 5, 6, 6, 7, 5, 6, 5, 5, 6, 5, 6, 5, 6, 5, 6, 6, 6, 6, 5, 7, 6, 7, 6, 5, 6, 6, 7, 7, 7, 6, 5, 5, 5, 5, 6, 6, 6, 5, 5, 6, 6, 5, 6, 6, 5, 7, 6, 6, 6, 6, 6, 7, 5, 5, 5, 6, 6, 6, 5, 5, 6, 5, 6, 7, 6, 6, 7, 6, 6, 5, 5, 5, 6, 5, 5, 6, 6, 7, 6, 6, 6, 5, 6, 5, 6, 7, 7, 5, 6, 6, 6, 6, 6, 5, 5, 6, 5, 6, 7, 6, 5, 5, 5, 5, 7, 6, 6, 5, 5, 6, 6, 5, 5, 6, 5, 5, 5, 5, 5, 5, 5, 6, 6, 7, 5, 5, 5, 5, 5, 5, 6, 5, 5, 5, 5, 5, 6, 5, 6, 5, 5, 6, 6, 5, 5, 6, 5, 5, 5, 5, 6, 5, 5, 5, 5, 5, 5, 5, 5, 5, 5, 5, 5, 5, 6, 5, 5, 5, 6, 6, 7, 6, 6, 6, 6, 6, 6, 6, 6, 5, 6, 6, 5, 6, 6, 6, 6, 6, 6, 6, 6, 6, 5, 6, 5, 5, 5, 7, 7, 7, 6, 6, 6, 6, 7, 7, 7, 7, 6, 5, 6, 7, 6, 6, 5, 6, 6, 5, 6, 5, 6, 6, 7, 7, 6, 6, 7, 7, 6, 6, 7, 6, 6, 5, 6, 6, 6, 6, 6, 5, 6, 7, 6, 6, 5, 7, 7, 5, 5, 6, 6, 6, 6, 6, 6, 6, 6, 6, 6, 6, 5, 6, 7, 5, 6, 5, 5, 6, 6, 6, 6, 6, 5, 6, 6, 6, 5, 5, 5, 5, 5, 7, 7, 6, 6, 7, 6, 5, 6, 6, 5, 5, 5, 6, 6, 5, 6, 6, 5, 5, 6, 6, 5, 6, 6, 5, 5, 5, 6, 5, 6, 6, 5, 5, 5, 5, 6, 6, 5, 5, 6, 6, 6, 6, 6, 5, 6, 6, 5, 5, 5, 5, 6, 6, 5, 5, 5, 5, 6, 5, 5, 6, 7, 6, 5, 6, 5, 5, 6, 6, 6, 5, 6, 6, 6, 5, 6, 5, 6, 5, 7, 5, 5, 6, 6, 5, 6, 6, 6, 6, 5, 6, 6, 5, 5, 6, 6, 6, 6, 6, 6, 6, 6, 6, 6, 5, 6, 6, 6, 6, 7, 6, 5, 6, 6, 6, 6, 6, 6\n"
     ]
    }
   ],
   "source": [
    "NN = MLPClassifier(solver='adam', alpha=1e-5, hidden_layer_sizes=(150, 15), max_iter=500, random_state=1).fit(x_real5, y_real5)\n",
    "result = NN.predict(TestD5)\n",
    "print(*result, sep = \", \")"
   ]
  },
  {
   "cell_type": "code",
   "execution_count": null,
   "metadata": {},
   "outputs": [],
   "source": []
  }
 ],
 "metadata": {
  "kernelspec": {
   "display_name": "Python 3",
   "language": "python",
   "name": "python3"
  },
  "language_info": {
   "codemirror_mode": {
    "name": "ipython",
    "version": 3
   },
   "file_extension": ".py",
   "mimetype": "text/x-python",
   "name": "python",
   "nbconvert_exporter": "python",
   "pygments_lexer": "ipython3",
   "version": "3.7.4"
  }
 },
 "nbformat": 4,
 "nbformat_minor": 2
}
