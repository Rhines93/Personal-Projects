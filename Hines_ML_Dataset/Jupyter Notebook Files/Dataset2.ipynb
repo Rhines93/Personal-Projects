{
 "cells": [
  {
   "cell_type": "code",
   "execution_count": 1,
   "metadata": {},
   "outputs": [],
   "source": [
    "import pandas as pd\n",
    "import numpy as np\n",
    "import sklearn as sk"
   ]
  },
  {
   "cell_type": "code",
   "execution_count": 2,
   "metadata": {},
   "outputs": [],
   "source": [
    "from sklearn.linear_model import LogisticRegression\n",
    "from sklearn import svm\n",
    "from sklearn.ensemble import RandomForestClassifier\n",
    "from sklearn.neural_network import MLPClassifier\n",
    "from sklearn.model_selection import train_test_split"
   ]
  },
  {
   "cell_type": "code",
   "execution_count": 3,
   "metadata": {},
   "outputs": [],
   "source": [
    "TD2 = pd.read_csv('Datasets/TrainData2.txt', sep=\"\\t\", header=None)\n",
    "TL2 = pd.read_csv('Datasets/TrainLabel2.txt', sep=\"\\t\", header=None)\n",
    "TestD2 = pd.read_csv('Datasets/TestData2.txt', sep=\"\\t\", header=None)"
   ]
  },
  {
   "cell_type": "code",
   "execution_count": 4,
   "metadata": {},
   "outputs": [
    {
     "name": "stdout",
     "output_type": "stream",
     "text": [
      "(100, 9182)\n",
      "(100, 1)\n",
      "(74, 9182)\n"
     ]
    }
   ],
   "source": [
    "TD2.interpolate(axis=0, limit_direction=\"both\")\n",
    "TestD2.interpolate(axis=0, limit_direction=\"both\")\n",
    "TD2cat = pd.concat([TD2, TL2], axis=1)\n",
    "print(TD2.shape)\n",
    "print(TL2.shape)\n",
    "print(TestD2.shape)"
   ]
  },
  {
   "cell_type": "code",
   "execution_count": 5,
   "metadata": {},
   "outputs": [],
   "source": [
    "x2 = TD2cat.iloc[:,0:]\n",
    "y2 = TD2cat.iloc[:,9182]\n",
    "\n",
    "x_real2 = TD2.iloc[:,0:]\n",
    "y_real2 = TL2.iloc[:,0]"
   ]
  },
  {
   "cell_type": "code",
   "execution_count": 6,
   "metadata": {},
   "outputs": [],
   "source": [
    "X_train2, X_test2, y_train2, y_test2 = train_test_split(x2, y2, test_size = 0.2, random_state = 0)"
   ]
  },
  {
   "cell_type": "code",
   "execution_count": 7,
   "metadata": {},
   "outputs": [
    {
     "data": {
      "text/plain": [
       "1.0"
      ]
     },
     "execution_count": 7,
     "metadata": {},
     "output_type": "execute_result"
    }
   ],
   "source": [
    "LR = LogisticRegression(random_state=0, solver='lbfgs', max_iter=300, multi_class='multinomial').fit(X_train2, y_train2)\n",
    "LR.predict(X_test2)\n",
    "round(LR.score(X_test2,y_test2), 4)"
   ]
  },
  {
   "cell_type": "code",
   "execution_count": 8,
   "metadata": {},
   "outputs": [
    {
     "name": "stdout",
     "output_type": "stream",
     "text": [
      "3, 11, 10, 4, 8, 7, 8, 8, 4, 3, 10, 11, 1, 1, 10, 3, 6, 3, 8, 10, 4, 4, 4, 4, 4, 4, 4, 4, 4, 4, 10, 11, 10, 11, 11, 10, 11, 3, 3, 3, 3, 3, 3, 3, 3, 3, 1, 1, 1, 1, 1, 1, 1, 1, 1, 1, 1, 1, 1, 1, 8, 8, 8, 8, 8, 8, 8, 8, 8, 8, 8, 8, 8, 8\n"
     ]
    }
   ],
   "source": [
    "LR = LogisticRegression(random_state=0, solver='lbfgs', max_iter=1000, multi_class='multinomial').fit(x_real2, y_real2)\n",
    "result = LR.predict(TestD2)\n",
    "print(*result, sep = \", \")"
   ]
  },
  {
   "cell_type": "code",
   "execution_count": 9,
   "metadata": {},
   "outputs": [
    {
     "data": {
      "text/plain": [
       "1.0"
      ]
     },
     "execution_count": 9,
     "metadata": {},
     "output_type": "execute_result"
    }
   ],
   "source": [
    "SVM = svm.SVC(kernel='linear', decision_function_shape=\"ovo\").fit(X_train2, y_train2)\n",
    "SVM.predict(X_test2)\n",
    "round(SVM.score(X_test2, y_test2), 4)"
   ]
  },
  {
   "cell_type": "code",
   "execution_count": 10,
   "metadata": {},
   "outputs": [
    {
     "name": "stdout",
     "output_type": "stream",
     "text": [
      "[ 3 11 10  4  8  3  8  8  4  3 10 11  1  1 11  3 10  3  8 10  4  4  4  4\n",
      "  4  4  4  4  4  4 10 11 10 11 11 10 11  3  3  3  3  3  3  3  3  3  1  1\n",
      "  1  1  1  1  1  1  1  1  1  1  1  1  8  8  8  8  8  8  8  8  8  8  8  8\n",
      "  8  8]\n"
     ]
    }
   ],
   "source": [
    "SVM = svm.SVC(kernel='linear', decision_function_shape=\"ovo\").fit(x_real2, y_real2)\n",
    "result = SVM.predict(TestD2)\n",
    "print(result)"
   ]
  },
  {
   "cell_type": "code",
   "execution_count": 11,
   "metadata": {},
   "outputs": [
    {
     "data": {
      "text/plain": [
       "0.95"
      ]
     },
     "execution_count": 11,
     "metadata": {},
     "output_type": "execute_result"
    }
   ],
   "source": [
    "RF = RandomForestClassifier(n_estimators=1000, max_depth=10, random_state=0).fit(X_train2, y_train2)\n",
    "RF.predict(X_test2)\n",
    "round(RF.score(X_test2, y_test2), 4)"
   ]
  },
  {
   "cell_type": "code",
   "execution_count": 12,
   "metadata": {},
   "outputs": [
    {
     "name": "stdout",
     "output_type": "stream",
     "text": [
      "[ 3 11 10  4  8  3  8  8  4  4 10 11  1  1 10  3 10  3  8 10  4  4  4  4\n",
      "  4  4  4  4  4  4 10 11 10 11 11 10 11  3  3  3  3  3  3  3  3  3  1  1\n",
      "  1  1  1  1  1  1  1  1  1  1  1  1  8  8  8  8  8  8  8  8  8  8  8  8\n",
      "  8  8]\n"
     ]
    }
   ],
   "source": [
    "RF = RandomForestClassifier(n_estimators=1000, max_depth=10, random_state=0).fit(x_real2, y_real2)\n",
    "result = RF.predict(TestD2)\n",
    "print(result)"
   ]
  },
  {
   "cell_type": "code",
   "execution_count": 13,
   "metadata": {},
   "outputs": [
    {
     "name": "stderr",
     "output_type": "stream",
     "text": [
      "C:\\Users\\Rhine\\Anaconda3\\lib\\site-packages\\sklearn\\neural_network\\multilayer_perceptron.py:566: ConvergenceWarning: Stochastic Optimizer: Maximum iterations (1000) reached and the optimization hasn't converged yet.\n",
      "  % self.max_iter, ConvergenceWarning)\n"
     ]
    },
    {
     "data": {
      "text/plain": [
       "0.95"
      ]
     },
     "execution_count": 13,
     "metadata": {},
     "output_type": "execute_result"
    }
   ],
   "source": [
    "NN = MLPClassifier(solver='sgd', alpha=1e-5, activation='tanh', learning_rate='adaptive', hidden_layer_sizes=(150, 10), max_iter=1000, random_state=1).fit(X_train2, y_train2)\n",
    "NN.predict(X_test2)\n",
    "round(NN.score(X_test2, y_test2), 4)"
   ]
  },
  {
   "cell_type": "code",
   "execution_count": 14,
   "metadata": {},
   "outputs": [
    {
     "name": "stdout",
     "output_type": "stream",
     "text": [
      "[ 3 11 11  4  8 10  8  8  4  3 10 11  1  1 11  3  6  3  8 11  4  4  4  4\n",
      "  4  4  4  4  5  4 10 11 10 11 11 10 11  3  3  3  3  3  3  3  3  3  1  1\n",
      "  1  1  1  1  1  1  1  1  1  1  1  1  8  8  8  8  8  8  8  8  8  8  8  8\n",
      "  8  8]\n"
     ]
    },
    {
     "name": "stderr",
     "output_type": "stream",
     "text": [
      "C:\\Users\\Rhine\\Anaconda3\\lib\\site-packages\\sklearn\\neural_network\\multilayer_perceptron.py:566: ConvergenceWarning: Stochastic Optimizer: Maximum iterations (1000) reached and the optimization hasn't converged yet.\n",
      "  % self.max_iter, ConvergenceWarning)\n"
     ]
    }
   ],
   "source": [
    "NN = MLPClassifier(solver='sgd', alpha=1e-5, activation='tanh', learning_rate='adaptive', hidden_layer_sizes=(150, 10),max_iter=1000, random_state=1).fit(x_real2, y_real2)\n",
    "result = NN.predict(TestD2)\n",
    "print(result)"
   ]
  },
  {
   "cell_type": "code",
   "execution_count": null,
   "metadata": {},
   "outputs": [],
   "source": []
  }
 ],
 "metadata": {
  "kernelspec": {
   "display_name": "Python 3",
   "language": "python",
   "name": "python3"
  },
  "language_info": {
   "codemirror_mode": {
    "name": "ipython",
    "version": 3
   },
   "file_extension": ".py",
   "mimetype": "text/x-python",
   "name": "python",
   "nbconvert_exporter": "python",
   "pygments_lexer": "ipython3",
   "version": "3.7.4"
  }
 },
 "nbformat": 4,
 "nbformat_minor": 2
}
